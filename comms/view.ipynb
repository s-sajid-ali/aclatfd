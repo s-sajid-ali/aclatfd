{
 "cells": [
  {
   "cell_type": "code",
   "execution_count": 1,
   "id": "9dcc3451-471d-4dfc-9ce8-ee28224ceaae",
   "metadata": {},
   "outputs": [],
   "source": [
    "import numpy as np\n",
    "import matplotlib.pyplot as plt\n",
    "import h5py,os"
   ]
  },
  {
   "cell_type": "code",
   "execution_count": 2,
   "id": "37354761-d8d8-49ec-853e-6da4e446e62e",
   "metadata": {},
   "outputs": [],
   "source": [
    "nsize     = 12\n",
    "nranks    = 16\n",
    "nsubcomms = 4"
   ]
  },
  {
   "cell_type": "code",
   "execution_count": 3,
   "id": "23020b8f-459a-4775-b96d-a18441cec5f0",
   "metadata": {},
   "outputs": [
    {
     "name": "stdout",
     "output_type": "stream",
     "text": [
      "<KeysViewHDF5 ['phi_global_local_on_gctx', 'phi_global_subcomm_0_on_gctx', 'phi_global_subcomm_1_on_gctx', 'phi_global_subcomm_2_on_gctx', 'phi_global_subcomm_3_on_gctx', 'rho_global_local_on_gctx', 'rho_global_subcomm_0_on_gctx', 'rho_global_subcomm_1_on_gctx', 'rho_global_subcomm_2_on_gctx', 'rho_global_subcomm_3_on_gctx']>\n"
     ]
    }
   ],
   "source": [
    "prescatter = h5py.File(\"prescatters.h5\")['global_members']\n",
    "print(prescatter.keys())\n",
    "\n",
    "pre_phi_gl_gctx = np.zeros(nsize*nranks)\n",
    "pre_rho_gl_gctx = np.zeros(nsize*nranks)\n",
    "\n",
    "prescatter['phi_global_local_on_gctx'].read_direct(pre_phi_gl_gctx, np.s_[:], np.s_[:])\n",
    "prescatter['rho_global_local_on_gctx'].read_direct(pre_rho_gl_gctx, np.s_[:], np.s_[:])\n",
    "\n",
    "pre_phi_gs_gctx = np.zeros((nsubcomms,nsize))\n",
    "pre_rho_gs_gctx = np.zeros((nsubcomms,nsize))\n",
    "\n",
    "for i in range(nsubcomms):\n",
    "    prescatter['phi_global_subcomm_'+str(i)+'_on_gctx'].read_direct(pre_phi_gs_gctx, np.s_[:], np.s_[i,:])   \n",
    "    prescatter['rho_global_subcomm_'+str(i)+'_on_gctx'].read_direct(pre_rho_gs_gctx, np.s_[:], np.s_[i,:])"
   ]
  },
  {
   "cell_type": "code",
   "execution_count": 4,
   "id": "a6f3c25b-0dc7-4186-b6b8-d939d62189a2",
   "metadata": {},
   "outputs": [
    {
     "name": "stdout",
     "output_type": "stream",
     "text": [
      "<KeysViewHDF5 ['phi_global_local_on_gctx', 'phi_global_subcomm_0_on_gctx', 'phi_global_subcomm_1_on_gctx', 'phi_global_subcomm_2_on_gctx', 'phi_global_subcomm_3_on_gctx', 'rho_global_local_on_gctx', 'rho_global_subcomm_0_on_gctx', 'rho_global_subcomm_1_on_gctx', 'rho_global_subcomm_2_on_gctx', 'rho_global_subcomm_3_on_gctx']>\n"
     ]
    }
   ],
   "source": [
    "postscatter = h5py.File(\"postscatters.h5\")['global_members']\n",
    "print(postscatter.keys())\n",
    "\n",
    "post_phi_gl_gctx = np.zeros(nsize*nranks)\n",
    "post_rho_gl_gctx = np.zeros(nsize*nranks)\n",
    "\n",
    "postscatter['phi_global_local_on_gctx'].read_direct(post_phi_gl_gctx, np.s_[:], np.s_[:])\n",
    "postscatter['rho_global_local_on_gctx'].read_direct(post_rho_gl_gctx, np.s_[:], np.s_[:])\n",
    "\n",
    "post_phi_gs_gctx = np.zeros((nsubcomms,nsize))\n",
    "post_rho_gs_gctx = np.zeros((nsubcomms,nsize))\n",
    "\n",
    "for i in range(nsubcomms):\n",
    "    postscatter['phi_global_subcomm_'+str(i)+'_on_gctx'].read_direct(post_phi_gs_gctx, np.s_[:], np.s_[i,:])   \n",
    "    postscatter['rho_global_subcomm_'+str(i)+'_on_gctx'].read_direct(post_rho_gs_gctx, np.s_[:], np.s_[i,:])"
   ]
  },
  {
   "cell_type": "code",
   "execution_count": 8,
   "id": "8bdf6e8e-d9e6-45e2-8545-e21c8876529d",
   "metadata": {},
   "outputs": [
    {
     "name": "stdout",
     "output_type": "stream",
     "text": [
      "[1. 1. 1. 1. 1. 1. 1. 1. 1. 1. 1. 1. 1. 1. 1. 1. 1. 1. 1. 1. 1. 1. 1. 1.\n",
      " 1. 1. 1. 1. 1. 1. 1. 1. 1. 1. 1. 1. 1. 1. 1. 1. 1. 1. 1. 1. 1. 1. 1. 1.\n",
      " 1. 1. 1. 1. 1. 1. 1. 1. 1. 1. 1. 1. 1. 1. 1. 1. 1. 1. 1. 1. 1. 1. 1. 1.\n",
      " 1. 1. 1. 1. 1. 1. 1. 1. 1. 1. 1. 1. 1. 1. 1. 1. 1. 1. 1. 1. 1. 1. 1. 1.\n",
      " 1. 1. 1. 1. 1. 1. 1. 1. 1. 1. 1. 1. 1. 1. 1. 1. 1. 1. 1. 1. 1. 1. 1. 1.\n",
      " 1. 1. 1. 1. 1. 1. 1. 1. 1. 1. 1. 1. 1. 1. 1. 1. 1. 1. 1. 1. 1. 1. 1. 1.\n",
      " 1. 1. 1. 1. 1. 1. 1. 1. 1. 1. 1. 1. 1. 1. 1. 1. 1. 1. 1. 1. 1. 1. 1. 1.\n",
      " 1. 1. 1. 1. 1. 1. 1. 1. 1. 1. 1. 1. 1. 1. 1. 1. 1. 1. 1. 1. 1. 1. 1. 1.]\n"
     ]
    }
   ],
   "source": [
    "print(pre_rho_gl_gctx*nranks)"
   ]
  },
  {
   "cell_type": "code",
   "execution_count": 9,
   "id": "0449fdbf-95e3-40f6-8f6b-b0c24905bcf4",
   "metadata": {},
   "outputs": [
    {
     "name": "stdout",
     "output_type": "stream",
     "text": [
      "[1. 1. 1. 1. 1. 1. 1. 1. 1. 1. 1. 1. 1. 1. 1. 1. 1. 1. 1. 1. 1. 1. 1. 1.\n",
      " 1. 1. 1. 1. 1. 1. 1. 1. 1. 1. 1. 1. 1. 1. 1. 1. 1. 1. 1. 1. 1. 1. 1. 1.\n",
      " 1. 1. 1. 1. 1. 1. 1. 1. 1. 1. 1. 1. 1. 1. 1. 1. 1. 1. 1. 1. 1. 1. 1. 1.\n",
      " 1. 1. 1. 1. 1. 1. 1. 1. 1. 1. 1. 1. 1. 1. 1. 1. 1. 1. 1. 1. 1. 1. 1. 1.\n",
      " 1. 1. 1. 1. 1. 1. 1. 1. 1. 1. 1. 1. 1. 1. 1. 1. 1. 1. 1. 1. 1. 1. 1. 1.\n",
      " 1. 1. 1. 1. 1. 1. 1. 1. 1. 1. 1. 1. 1. 1. 1. 1. 1. 1. 1. 1. 1. 1. 1. 1.\n",
      " 1. 1. 1. 1. 1. 1. 1. 1. 1. 1. 1. 1. 1. 1. 1. 1. 1. 1. 1. 1. 1. 1. 1. 1.\n",
      " 1. 1. 1. 1. 1. 1. 1. 1. 1. 1. 1. 1. 1. 1. 1. 1. 1. 1. 1. 1. 1. 1. 1. 1.]\n"
     ]
    }
   ],
   "source": [
    "print(post_phi_gl_gctx*nsubcomms)"
   ]
  },
  {
   "cell_type": "code",
   "execution_count": null,
   "id": "a2f49193-1c32-43e1-a6d5-8c368ab284e7",
   "metadata": {},
   "outputs": [],
   "source": []
  }
 ],
 "metadata": {
  "kernelspec": {
   "display_name": "Python 3 (ipykernel)",
   "language": "python",
   "name": "python3"
  },
  "language_info": {
   "codemirror_mode": {
    "name": "ipython",
    "version": 3
   },
   "file_extension": ".py",
   "mimetype": "text/x-python",
   "name": "python",
   "nbconvert_exporter": "python",
   "pygments_lexer": "ipython3",
   "version": "3.9.7"
  }
 },
 "nbformat": 4,
 "nbformat_minor": 5
}
