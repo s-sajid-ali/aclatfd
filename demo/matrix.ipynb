{
 "cells": [
  {
   "cell_type": "code",
   "execution_count": 1,
   "id": "41c5b19e-8f71-4eee-9964-4be5a3526f12",
   "metadata": {},
   "outputs": [],
   "source": [
    "import numpy as np\n",
    "import scipy.sparse as spsparse\n",
    "import matplotlib.pyplot as plt\n",
    "\n",
    "%run ../scripts/neighbor.py"
   ]
  },
  {
   "cell_type": "code",
   "execution_count": 2,
   "id": "f0559330-12dc-44cf-b01b-a064eb248158",
   "metadata": {},
   "outputs": [],
   "source": [
    "x = np.load('x-idx.npy')\n",
    "y = np.load('y-idx.npy')\n",
    "\n",
    "ix = np.load('ix-idx.npy')\n",
    "iy = np.load('iy-idx.npy')\n",
    "\n",
    "bx = np.load('bx-idx.npy')\n",
    "by = np.load('by-idx.npy')"
   ]
  },
  {
   "cell_type": "code",
   "execution_count": 3,
   "id": "21df5bb8-c0fb-4764-81c4-a17b86252294",
   "metadata": {},
   "outputs": [],
   "source": [
    "dx = x[1] - x[0]"
   ]
  },
  {
   "cell_type": "code",
   "execution_count": 4,
   "id": "b99e66eb-62be-405d-800b-7943b6731a2a",
   "metadata": {},
   "outputs": [],
   "source": [
    "elements = []\n",
    "rowidx   = []\n",
    "colidx   = []\n",
    "\n",
    "for i in range(len(x)):\n",
    "    xi = x[i]\n",
    "    yi = y[i]\n",
    "\n",
    "    # check if point is in the interior region\n",
    "    if len(np.intersect1d(np.where(xi==ix)[0], np.where(yi==iy)[0])):\n",
    "        neighbors = check_neighbor(i,x,y)\n",
    "        for j in neighbors[0]:\n",
    "            if i!=j:\n",
    "                elements.append(1/(dx**2))\n",
    "                rowidx.append(i)\n",
    "                colidx.append(j)\n",
    "            if i==j:\n",
    "                elements.append(-4/(dx**2))\n",
    "                rowidx.append(i)\n",
    "                colidx.append(i)\n",
    "    # if point is on the boundary\n",
    "    else:\n",
    "        elements.append(1)\n",
    "        rowidx.append(i)\n",
    "        colidx.append(i)\n",
    "        \n",
    "elements = np.array(elements)\n",
    "rowidx   = np.array(rowidx)\n",
    "colidx   = np.array(colidx)"
   ]
  },
  {
   "cell_type": "code",
   "execution_count": 5,
   "id": "f366309d-a431-46ab-87b9-253ae7b48663",
   "metadata": {},
   "outputs": [],
   "source": [
    "A = spsparse.csr_matrix((elements, (rowidx, colidx)), shape=(x.shape[0],x.shape[0]), dtype=np.float64)"
   ]
  },
  {
   "cell_type": "code",
   "execution_count": 6,
   "id": "a58a558f-a731-4fbd-8d29-9f2fe4266d24",
   "metadata": {},
   "outputs": [],
   "source": [
    "spsparse.save_npz('A.npz', A)"
   ]
  },
  {
   "cell_type": "code",
   "execution_count": 7,
   "id": "b67e4b8b-bdc5-4c39-a0f4-6e8f7854dfc7",
   "metadata": {},
   "outputs": [
    {
     "data": {
      "text/plain": [
       "<1416x1416 sparse matrix of type '<class 'numpy.float64'>'\n",
       "\twith 6488 stored elements in Compressed Sparse Row format>"
      ]
     },
     "execution_count": 7,
     "metadata": {},
     "output_type": "execute_result"
    }
   ],
   "source": [
    "A"
   ]
  },
  {
   "cell_type": "code",
   "execution_count": null,
   "id": "c6f052e2-5c96-4ab8-ab79-a4baea3e0e0c",
   "metadata": {},
   "outputs": [],
   "source": []
  }
 ],
 "metadata": {
  "kernelspec": {
   "display_name": "Python 3 (ipykernel)",
   "language": "python",
   "name": "python3"
  },
  "language_info": {
   "codemirror_mode": {
    "name": "ipython",
    "version": 3
   },
   "file_extension": ".py",
   "mimetype": "text/x-python",
   "name": "python",
   "nbconvert_exporter": "python",
   "pygments_lexer": "ipython3",
   "version": "3.9.7"
  }
 },
 "nbformat": 4,
 "nbformat_minor": 5
}
